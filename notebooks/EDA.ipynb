{
 "cells": [
  {
   "cell_type": "markdown",
   "id": "08528583",
   "metadata": {},
   "source": [
    "# EDA — PProductions\n",
    "\n",
    "Exploração inicial dos dados, hipóteses e visualizações."
   ]
  },
  {
   "cell_type": "code",
   "execution_count": null,
   "id": "79e2d920",
   "metadata": {},
   "outputs": [],
   "source": [
    "import pandas as pd\n",
    "import matplotlib.pyplot as plt\n",
    "\n",
    "%matplotlib inline\n"
   ]
  },
  {
   "cell_type": "markdown",
   "id": "84568714",
   "metadata": {},
   "source": [
    "## 1. Carregamento"
   ]
  },
  {
   "cell_type": "code",
   "execution_count": null,
   "id": "41e903cf",
   "metadata": {},
   "outputs": [],
   "source": [
    "df = pd.read_csv('data/processed/movies.csv')\n",
    "df.head()"
   ]
  },
  {
   "cell_type": "markdown",
   "id": "5cd23fb0",
   "metadata": {},
   "source": [
    "## 2. Perfil geral"
   ]
  },
  {
   "cell_type": "code",
   "execution_count": null,
   "id": "fbccfca4",
   "metadata": {},
   "outputs": [],
   "source": [
    "df.describe(include='all').T"
   ]
  },
  {
   "cell_type": "markdown",
   "id": "db7e6ffc",
   "metadata": {},
   "source": [
    "## 3. Distribuições"
   ]
  },
  {
   "cell_type": "code",
   "execution_count": null,
   "id": "29facb07",
   "metadata": {},
   "outputs": [],
   "source": [
    "df['imdb_rating'].hist(); plt.title('Distribuição da nota IMDb');"
   ]
  },
  {
   "cell_type": "markdown",
   "id": "bfedd068",
   "metadata": {},
   "source": [
    "## 4. Relações"
   ]
  },
  {
   "cell_type": "code",
   "execution_count": null,
   "id": "76e7ebe7",
   "metadata": {},
   "outputs": [],
   "source": [
    "df.plot.scatter(x='No_of_Votes', y='imdb_rating'); plt.title('Votos vs IMDb');"
   ]
  },
  {
   "cell_type": "markdown",
   "id": "7aeef7dd",
   "metadata": {},
   "source": [
    "## 5. Texto (Overview)"
   ]
  },
  {
   "cell_type": "code",
   "execution_count": null,
   "id": "ef42b004",
   "metadata": {},
   "outputs": [],
   "source": [
    "from sklearn.feature_extraction.text import TfidfVectorizer\n",
    "vec = TfidfVectorizer(max_features=20)\n",
    "X = vec.fit_transform(df['Overview'].fillna(''))\n",
    "pd.DataFrame({'term': vec.get_feature_names_out()})"
   ]
  }
 ],
 "metadata": {},
 "nbformat": 4,
 "nbformat_minor": 5
}
